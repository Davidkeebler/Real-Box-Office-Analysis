{
 "cells": [
  {
   "cell_type": "markdown",
   "metadata": {},
   "source": [
    "# Real Box Office Data Analysis\n",
    "\n",
    "This project analyzes a set of real box office data (provided by flatiron data science school) which includes information gathered from Box Office Mojo, IMDB, Rotten Tomatoes, ThemovieDB, and The Numbers in order to provide business insights for the investors looking to open a new movie studio.\n",
    "\n",
    "## Data explaination\n",
    "\n",
    "The data files used for the analysis are not included within this repository in order to reflect industry best practicies and to simulate the process I would follow if I were working with private and sensitive data. The zipped data can be obtained at the flatiron school repository which served as a model example for this project, accessible [here.](https://github.com/learn-co-curriculum/dsc-phase-2-project-v3/tree/gating/zippedData)\n",
    "\n",
    "## Introduction\n",
    "\n",
    "The purpose of this project is to create actionable, data-based reccommendations that the investors in a new movie studio can follow in order to maximize the success of their new films. For the purpose of this analysis, I am considering 'success' to be the profitability an degree of profitability of the movie; not just positive user ratings. In my exploratory analysis of the data, I found that there was a correlation between the budget of the movie and the user ratings the movie recieved, and I additionally found a correlation between user ratings and the total profit of the movie. I also found the number of total foreign markets a movie was released in to be a strong predictor of the movie's profit. Finally, I found that the original language the movie was produced in to be another strong predictor of success.\n",
    "\n",
    "## Data Assembly and Cleaning\n",
    "\n",
    "In my exploratory analysis, I found that out of the five sources of data I have assembled for the project, only three of them were well suited to my analysis. The Box Office Mojo data is an inferior version of the data from The Numbers, and joining the Rotten Tomatoes data with everything else would result in a huge amount of lost entries/NaN values, meaning it was not feasible to include it. In the cells below, I assemble the data into a single dataframe and clean out the missing and placeholder values from the columns I plan to use in my analysis."
   ]
  },
  {
   "cell_type": "code",
   "execution_count": 1,
   "metadata": {},
   "outputs": [],
   "source": [
    "# Import necessary packages\n",
    "import numpy as np\n",
    "import matplotlib.pyplot as plt\n",
    "import pandas as pd\n",
    "import sqlite3\n",
    "import seaborn as sns\n",
    "from pandasql import sqldf\n",
    "from scipy import stats"
   ]
  },
  {
   "cell_type": "code",
   "execution_count": 2,
   "metadata": {},
   "outputs": [
    {
     "data": {
      "text/html": [
       "<div>\n",
       "<style scoped>\n",
       "    .dataframe tbody tr th:only-of-type {\n",
       "        vertical-align: middle;\n",
       "    }\n",
       "\n",
       "    .dataframe tbody tr th {\n",
       "        vertical-align: top;\n",
       "    }\n",
       "\n",
       "    .dataframe thead th {\n",
       "        text-align: right;\n",
       "    }\n",
       "</style>\n",
       "<table border=\"1\" class=\"dataframe\">\n",
       "  <thead>\n",
       "    <tr style=\"text-align: right;\">\n",
       "      <th></th>\n",
       "      <th>release_date</th>\n",
       "      <th>production_budget</th>\n",
       "      <th>original_language</th>\n",
       "      <th>popularity</th>\n",
       "      <th>TMDBvote_average</th>\n",
       "      <th>TMDBvote_count</th>\n",
       "      <th>IMDBrating</th>\n",
       "      <th>IMDBnumvotes</th>\n",
       "      <th>num_markets</th>\n",
       "      <th>profit</th>\n",
       "    </tr>\n",
       "  </thead>\n",
       "  <tbody>\n",
       "    <tr>\n",
       "      <th>#Horror</th>\n",
       "      <td>Nov 20, 2015</td>\n",
       "      <td>1500000</td>\n",
       "      <td>de</td>\n",
       "      <td>6.099</td>\n",
       "      <td>3.3</td>\n",
       "      <td>102</td>\n",
       "      <td>3.0</td>\n",
       "      <td>3092</td>\n",
       "      <td>3</td>\n",
       "      <td>-1500000</td>\n",
       "    </tr>\n",
       "    <tr>\n",
       "      <th>10 Cloverfield Lane</th>\n",
       "      <td>Mar 11, 2016</td>\n",
       "      <td>5000000</td>\n",
       "      <td>en</td>\n",
       "      <td>17.892</td>\n",
       "      <td>6.9</td>\n",
       "      <td>4629</td>\n",
       "      <td>7.2</td>\n",
       "      <td>260383</td>\n",
       "      <td>25</td>\n",
       "      <td>103286422</td>\n",
       "    </tr>\n",
       "    <tr>\n",
       "      <th>10 Days in a Madhouse</th>\n",
       "      <td>Nov 11, 2015</td>\n",
       "      <td>12000000</td>\n",
       "      <td>en</td>\n",
       "      <td>0.955</td>\n",
       "      <td>5.4</td>\n",
       "      <td>7</td>\n",
       "      <td>6.7</td>\n",
       "      <td>1114</td>\n",
       "      <td>2</td>\n",
       "      <td>-11985384</td>\n",
       "    </tr>\n",
       "    <tr>\n",
       "      <th>12 Strong</th>\n",
       "      <td>Jan 19, 2018</td>\n",
       "      <td>35000000</td>\n",
       "      <td>en</td>\n",
       "      <td>13.183</td>\n",
       "      <td>5.6</td>\n",
       "      <td>1312</td>\n",
       "      <td>6.6</td>\n",
       "      <td>50155</td>\n",
       "      <td>26</td>\n",
       "      <td>36118378</td>\n",
       "    </tr>\n",
       "    <tr>\n",
       "      <th>12 Years a Slave</th>\n",
       "      <td>Oct 18, 2013</td>\n",
       "      <td>20000000</td>\n",
       "      <td>en</td>\n",
       "      <td>16.493</td>\n",
       "      <td>7.9</td>\n",
       "      <td>6631</td>\n",
       "      <td>8.1</td>\n",
       "      <td>577301</td>\n",
       "      <td>32</td>\n",
       "      <td>161025343</td>\n",
       "    </tr>\n",
       "  </tbody>\n",
       "</table>\n",
       "</div>"
      ],
      "text/plain": [
       "                       release_date  production_budget original_language  \\\n",
       "#Horror                Nov 20, 2015            1500000                de   \n",
       "10 Cloverfield Lane    Mar 11, 2016            5000000                en   \n",
       "10 Days in a Madhouse  Nov 11, 2015           12000000                en   \n",
       "12 Strong              Jan 19, 2018           35000000                en   \n",
       "12 Years a Slave       Oct 18, 2013           20000000                en   \n",
       "\n",
       "                       popularity  TMDBvote_average  TMDBvote_count  \\\n",
       "#Horror                     6.099               3.3             102   \n",
       "10 Cloverfield Lane        17.892               6.9            4629   \n",
       "10 Days in a Madhouse       0.955               5.4               7   \n",
       "12 Strong                  13.183               5.6            1312   \n",
       "12 Years a Slave           16.493               7.9            6631   \n",
       "\n",
       "                       IMDBrating  IMDBnumvotes  num_markets     profit  \n",
       "#Horror                       3.0          3092            3   -1500000  \n",
       "10 Cloverfield Lane           7.2        260383           25  103286422  \n",
       "10 Days in a Madhouse         6.7          1114            2  -11985384  \n",
       "12 Strong                     6.6         50155           26   36118378  \n",
       "12 Years a Slave              8.1        577301           32  161025343  "
      ]
     },
     "execution_count": 2,
     "metadata": {},
     "output_type": "execute_result"
    }
   ],
   "source": [
    "# Load TMDB data\n",
    "tmdbdf = pd.read_csv(\"data/tmdb.movies.csv\")\n",
    "# Trim columns from TMDB data that are not useful for this analysis, reformat data to be easier to work with\n",
    "tmdbdf.drop(columns=['id', 'Unnamed: 0', 'genre_ids', 'release_date'], inplace=True)\n",
    "tmdbdf.columns = ['original_language', 'original_title', 'popularity', 'title', 'TMDBvote_average', 'TMDBvote_count']\n",
    "tmdbdf.set_index('original_title', inplace=True)\n",
    "\n",
    "# Load data from The Numbers\n",
    "tndf = pd.read_csv(\"data/tn.movie_budgets.csv\")\n",
    "# Same trimming process as above\n",
    "tndf.drop(columns='id', inplace=True)\n",
    "tndf.set_index('movie', inplace=True)\n",
    "\n",
    "# Set up connection to IMDB SQL database\n",
    "conn = sqlite3.connect('data/im.db')\n",
    "\n",
    "# Query SQL database for IMDB ratings and number of regions movies were released in\n",
    "q = \"\"\"\n",
    "SELECT primary_title, averagerating AS IMDBrating, numvotes AS IMDBnumvotes, COUNT(DISTINCT region) AS num_markets\n",
    "  FROM movie_basics as MB\n",
    "  JOIN movie_ratings as MR\n",
    "      USING(movie_id)\n",
    "  JOIN movie_akas\n",
    "      USING(movie_id)\n",
    "GROUP BY primary_title\n",
    "\"\"\"\n",
    "imdbdf = pd.read_sql(q, conn)\n",
    "imdbdf.set_index('primary_title', inplace=True)\n",
    "\n",
    "# Join dataframes together to create the main source of data I will use in this analysis\n",
    "fulldf = tndf.join([tmdbdf, imdbdf], how='inner')\n",
    "\n",
    "# Trim out a duplicate column, calculate a new profit column, and then drop the now-redundant columns that were used to calculate it\n",
    "# Remove the dollar signs and commas, then convert data type to integer\n",
    "fulldf['worldwide_gross'] = fulldf['worldwide_gross'].map(lambda x: int(x.replace(\",\", \"\")[1:]))\n",
    "fulldf['production_budget'] = fulldf['production_budget'].map(lambda x: int(x.replace(\",\", \"\")[1:]))\n",
    "# Calculate the new profit column: worldwide gross - production budget\n",
    "fulldf['profit'] = fulldf['worldwide_gross'] - fulldf['production_budget'] \n",
    "fulldf.drop(columns=['domestic_gross', 'worldwide_gross', 'title'], inplace=True)\n",
    "fulldf.head()"
   ]
  },
  {
   "cell_type": "markdown",
   "metadata": {},
   "source": [
    "All of the programming that was used to create this dataframe was taken from the exploration branch of this repository, where I did my exploratory analysis. Now that I have the data I want to use in a workable format, I need to check for missing values and obvious placeholders."
   ]
  },
  {
   "cell_type": "code",
   "execution_count": 3,
   "metadata": {
    "scrolled": true
   },
   "outputs": [
    {
     "data": {
      "text/html": [
       "<div>\n",
       "<style scoped>\n",
       "    .dataframe tbody tr th:only-of-type {\n",
       "        vertical-align: middle;\n",
       "    }\n",
       "\n",
       "    .dataframe tbody tr th {\n",
       "        vertical-align: top;\n",
       "    }\n",
       "\n",
       "    .dataframe thead th {\n",
       "        text-align: right;\n",
       "    }\n",
       "</style>\n",
       "<table border=\"1\" class=\"dataframe\">\n",
       "  <thead>\n",
       "    <tr style=\"text-align: right;\">\n",
       "      <th></th>\n",
       "      <th>production_budget</th>\n",
       "      <th>popularity</th>\n",
       "      <th>TMDBvote_average</th>\n",
       "      <th>TMDBvote_count</th>\n",
       "      <th>IMDBrating</th>\n",
       "      <th>IMDBnumvotes</th>\n",
       "      <th>num_markets</th>\n",
       "      <th>profit</th>\n",
       "    </tr>\n",
       "  </thead>\n",
       "  <tbody>\n",
       "    <tr>\n",
       "      <th>count</th>\n",
       "      <td>2.140000e+03</td>\n",
       "      <td>2140.000000</td>\n",
       "      <td>2140.000000</td>\n",
       "      <td>2140.000000</td>\n",
       "      <td>2140.000000</td>\n",
       "      <td>2.140000e+03</td>\n",
       "      <td>2140.000000</td>\n",
       "      <td>2.140000e+03</td>\n",
       "    </tr>\n",
       "    <tr>\n",
       "      <th>mean</th>\n",
       "      <td>3.877142e+07</td>\n",
       "      <td>10.868855</td>\n",
       "      <td>6.206355</td>\n",
       "      <td>1760.184579</td>\n",
       "      <td>6.261075</td>\n",
       "      <td>9.649431e+04</td>\n",
       "      <td>20.400000</td>\n",
       "      <td>8.370660e+07</td>\n",
       "    </tr>\n",
       "    <tr>\n",
       "      <th>std</th>\n",
       "      <td>5.249873e+07</td>\n",
       "      <td>8.317120</td>\n",
       "      <td>1.127242</td>\n",
       "      <td>2749.367955</td>\n",
       "      <td>1.103754</td>\n",
       "      <td>1.537298e+05</td>\n",
       "      <td>10.884141</td>\n",
       "      <td>1.865289e+08</td>\n",
       "    </tr>\n",
       "    <tr>\n",
       "      <th>min</th>\n",
       "      <td>9.000000e+03</td>\n",
       "      <td>0.600000</td>\n",
       "      <td>0.000000</td>\n",
       "      <td>1.000000</td>\n",
       "      <td>1.600000</td>\n",
       "      <td>5.000000e+00</td>\n",
       "      <td>1.000000</td>\n",
       "      <td>-1.104502e+08</td>\n",
       "    </tr>\n",
       "    <tr>\n",
       "      <th>25%</th>\n",
       "      <td>5.000000e+06</td>\n",
       "      <td>5.860250</td>\n",
       "      <td>5.600000</td>\n",
       "      <td>71.000000</td>\n",
       "      <td>5.700000</td>\n",
       "      <td>2.986000e+03</td>\n",
       "      <td>12.000000</td>\n",
       "      <td>-1.500000e+06</td>\n",
       "    </tr>\n",
       "    <tr>\n",
       "      <th>50%</th>\n",
       "      <td>2.000000e+07</td>\n",
       "      <td>9.592500</td>\n",
       "      <td>6.300000</td>\n",
       "      <td>675.500000</td>\n",
       "      <td>6.400000</td>\n",
       "      <td>3.874000e+04</td>\n",
       "      <td>23.000000</td>\n",
       "      <td>1.417473e+07</td>\n",
       "    </tr>\n",
       "    <tr>\n",
       "      <th>75%</th>\n",
       "      <td>4.800000e+07</td>\n",
       "      <td>14.502750</td>\n",
       "      <td>6.900000</td>\n",
       "      <td>2148.250000</td>\n",
       "      <td>7.000000</td>\n",
       "      <td>1.190545e+05</td>\n",
       "      <td>29.000000</td>\n",
       "      <td>7.918545e+07</td>\n",
       "    </tr>\n",
       "    <tr>\n",
       "      <th>max</th>\n",
       "      <td>4.250000e+08</td>\n",
       "      <td>80.773000</td>\n",
       "      <td>10.000000</td>\n",
       "      <td>22186.000000</td>\n",
       "      <td>9.200000</td>\n",
       "      <td>1.841066e+06</td>\n",
       "      <td>48.000000</td>\n",
       "      <td>2.351345e+09</td>\n",
       "    </tr>\n",
       "  </tbody>\n",
       "</table>\n",
       "</div>"
      ],
      "text/plain": [
       "       production_budget   popularity  TMDBvote_average  TMDBvote_count  \\\n",
       "count       2.140000e+03  2140.000000       2140.000000     2140.000000   \n",
       "mean        3.877142e+07    10.868855          6.206355     1760.184579   \n",
       "std         5.249873e+07     8.317120          1.127242     2749.367955   \n",
       "min         9.000000e+03     0.600000          0.000000        1.000000   \n",
       "25%         5.000000e+06     5.860250          5.600000       71.000000   \n",
       "50%         2.000000e+07     9.592500          6.300000      675.500000   \n",
       "75%         4.800000e+07    14.502750          6.900000     2148.250000   \n",
       "max         4.250000e+08    80.773000         10.000000    22186.000000   \n",
       "\n",
       "        IMDBrating  IMDBnumvotes  num_markets        profit  \n",
       "count  2140.000000  2.140000e+03  2140.000000  2.140000e+03  \n",
       "mean      6.261075  9.649431e+04    20.400000  8.370660e+07  \n",
       "std       1.103754  1.537298e+05    10.884141  1.865289e+08  \n",
       "min       1.600000  5.000000e+00     1.000000 -1.104502e+08  \n",
       "25%       5.700000  2.986000e+03    12.000000 -1.500000e+06  \n",
       "50%       6.400000  3.874000e+04    23.000000  1.417473e+07  \n",
       "75%       7.000000  1.190545e+05    29.000000  7.918545e+07  \n",
       "max       9.200000  1.841066e+06    48.000000  2.351345e+09  "
      ]
     },
     "execution_count": 3,
     "metadata": {},
     "output_type": "execute_result"
    }
   ],
   "source": [
    "fulldf.describe()"
   ]
  },
  {
   "cell_type": "markdown",
   "metadata": {},
   "source": [
    "A potential issue with this dataset is the small number of records that I've ended up with. The IMDB database is rather large, but due to the reliance of my analysis on profit as a metric of success, I can only use records that overlap with the data from The Numbers, which is a rather small amount. Regardless, due to the relatively small number of movies that come out each year, this amount of data should be sufficient for this analysis, and later in my analysis I use statistical tests to confirm that this is the case."
   ]
  },
  {
   "cell_type": "code",
   "execution_count": 4,
   "metadata": {},
   "outputs": [
    {
     "data": {
      "text/plain": [
       "release_date         False\n",
       "production_budget    False\n",
       "original_language    False\n",
       "popularity           False\n",
       "TMDBvote_average     False\n",
       "TMDBvote_count       False\n",
       "IMDBrating           False\n",
       "IMDBnumvotes         False\n",
       "num_markets          False\n",
       "profit               False\n",
       "dtype: bool"
      ]
     },
     "execution_count": 4,
     "metadata": {},
     "output_type": "execute_result"
    }
   ],
   "source": [
    "fulldf.isna().any()"
   ]
  },
  {
   "cell_type": "markdown",
   "metadata": {},
   "source": [
    "Thankfully, it looks like there aren't any missing values! Now, I'm going to check the columns that are imortant for my analysis to see if I can spot any obvious placeholder values."
   ]
  },
  {
   "cell_type": "code",
   "execution_count": 5,
   "metadata": {},
   "outputs": [
    {
     "data": {
      "text/plain": [
       "10000000    95\n",
       "20000000    87\n",
       "5000000     76\n",
       "25000000    71\n",
       "30000000    68\n",
       "40000000    57\n",
       "15000000    54\n",
       "35000000    53\n",
       "2000000     48\n",
       "12000000    47\n",
       "50000000    46\n",
       "3000000     46\n",
       "1000000     43\n",
       "60000000    33\n",
       "18000000    32\n",
       "Name: production_budget, dtype: int64"
      ]
     },
     "execution_count": 5,
     "metadata": {},
     "output_type": "execute_result"
    }
   ],
   "source": [
    "fulldf['production_budget'].value_counts().head(10)"
   ]
  },
  {
   "cell_type": "markdown",
   "metadata": {},
   "source": [
    "It looks like the values in production budget have been rounded into bins by tens of millions of dollars, but nothing here immediately jumps out as a placeholder (I would expect something like $0)."
   ]
  },
  {
   "cell_type": "code",
   "execution_count": 6,
   "metadata": {},
   "outputs": [
    {
     "data": {
      "text/plain": [
       "6.2    99\n",
       "5.9    98\n",
       "6.0    98\n",
       "6.1    96\n",
       "6.6    91\n",
       "6.7    90\n",
       "5.8    90\n",
       "6.3    89\n",
       "6.8    86\n",
       "6.5    78\n",
       "7.0    76\n",
       "6.9    72\n",
       "6.4    68\n",
       "5.6    65\n",
       "7.4    64\n",
       "Name: TMDBvote_average, dtype: int64"
      ]
     },
     "execution_count": 6,
     "metadata": {},
     "output_type": "execute_result"
    }
   ],
   "source": [
    "fulldf['TMDBvote_average'].value_counts().head(10)"
   ]
  },
  {
   "cell_type": "code",
   "execution_count": 7,
   "metadata": {},
   "outputs": [
    {
     "data": {
      "text/plain": [
       "6.4    98\n",
       "6.6    95\n",
       "6.5    93\n",
       "6.3    91\n",
       "6.2    88\n",
       "6.7    79\n",
       "6.8    78\n",
       "7.1    77\n",
       "7.2    75\n",
       "6.1    73\n",
       "5.8    72\n",
       "7.0    71\n",
       "5.7    69\n",
       "6.0    68\n",
       "7.3    62\n",
       "Name: IMDBrating, dtype: int64"
      ]
     },
     "execution_count": 7,
     "metadata": {},
     "output_type": "execute_result"
    }
   ],
   "source": [
    "fulldf['IMDBrating'].value_counts().head(10)"
   ]
  },
  {
   "cell_type": "markdown",
   "metadata": {},
   "source": [
    "Neither of my rating aggregate columns seem to have obvious placeholder values either, which is good. I just need to check the number of markets column and original language columns now."
   ]
  },
  {
   "cell_type": "code",
   "execution_count": 8,
   "metadata": {},
   "outputs": [
    {
     "data": {
      "text/plain": [
       "29    114\n",
       "26    105\n",
       "27     93\n",
       "1      87\n",
       "28     82\n",
       "24     80\n",
       "2      79\n",
       "30     75\n",
       "25     72\n",
       "23     71\n",
       "31     69\n",
       "33     68\n",
       "32     67\n",
       "3      59\n",
       "35     57\n",
       "12     53\n",
       "20     53\n",
       "21     53\n",
       "5      48\n",
       "19     48\n",
       "15     47\n",
       "18     47\n",
       "22     46\n",
       "6      46\n",
       "14     45\n",
       "17     43\n",
       "16     43\n",
       "10     43\n",
       "13     42\n",
       "34     36\n",
       "4      35\n",
       "7      35\n",
       "9      35\n",
       "8      34\n",
       "36     30\n",
       "11     28\n",
       "37     17\n",
       "39     13\n",
       "38     12\n",
       "40     11\n",
       "41      6\n",
       "43      4\n",
       "44      3\n",
       "48      2\n",
       "46      2\n",
       "42      1\n",
       "45      1\n",
       "Name: num_markets, dtype: int64"
      ]
     },
     "execution_count": 8,
     "metadata": {},
     "output_type": "execute_result"
    }
   ],
   "source": [
    "fulldf['num_markets'].value_counts().head(10)"
   ]
  },
  {
   "cell_type": "markdown",
   "metadata": {},
   "source": [
    "This is also looking perfect."
   ]
  },
  {
   "cell_type": "code",
   "execution_count": 9,
   "metadata": {},
   "outputs": [
    {
     "data": {
      "text/plain": [
       "en    2092\n",
       "fr      13\n",
       "es       8\n",
       "de       4\n",
       "hi       4\n",
       "et       2\n",
       "ar       2\n",
       "ko       2\n",
       "th       1\n",
       "xx       1\n",
       "fa       1\n",
       "pt       1\n",
       "da       1\n",
       "it       1\n",
       "gu       1\n",
       "tl       1\n",
       "tr       1\n",
       "te       1\n",
       "fi       1\n",
       "pl       1\n",
       "ur       1\n",
       "Name: original_language, dtype: int64"
      ]
     },
     "execution_count": 9,
     "metadata": {},
     "output_type": "execute_result"
    }
   ],
   "source": [
    "fulldf['original_language'].value_counts()"
   ]
  },
  {
   "cell_type": "markdown",
   "metadata": {},
   "source": [
    "For the analysis I plan to do on this column, having a large number of original languages with only one movie is completely unacceptable. My solution to this is going to be to drop the original languages that have less than four entries to ensure that there is at least a reasonable spread of values within each. I don't want to prune out rows from the main dataframe either due to its already limited size, so I am going to create a separate dataframe with these changes."
   ]
  },
  {
   "cell_type": "code",
   "execution_count": 13,
   "metadata": {},
   "outputs": [
    {
     "data": {
      "text/plain": [
       "en    2092\n",
       "fr      13\n",
       "es       8\n",
       "hi       4\n",
       "de       4\n",
       "Name: original_language, dtype: int64"
      ]
     },
     "execution_count": 13,
     "metadata": {},
     "output_type": "execute_result"
    }
   ],
   "source": [
    "langdf = fulldf[fulldf.groupby('original_language').original_language.transform('count')>3].copy() \n",
    "langdf['original_language'].value_counts()"
   ]
  },
  {
   "cell_type": "markdown",
   "metadata": {},
   "source": [
    "The code I used to make that change was taken from [this incredibly helpful Stack Overflow page.](https://stackoverflow.com/questions/49735683/python-removing-rows-on-count-condition)\n",
    "\n",
    "I also want to simplify the ratings columns by combining the ratings from both sources together using a weighted average, based on the total number of reviews from each source. This shouldn't be too difficult for me to do."
   ]
  },
  {
   "cell_type": "code",
   "execution_count": 11,
   "metadata": {},
   "outputs": [
    {
     "data": {
      "text/plain": [
       "#Horror                       3.009580\n",
       "10 Cloverfield Lane           7.194760\n",
       "10 Days in a Madhouse         6.691882\n",
       "12 Strong                     6.574508\n",
       "12 Years a Slave              8.097729\n",
       "                                ...   \n",
       "Zookeeper                     5.201663\n",
       "Zoolander 2                   4.700000\n",
       "Zoom                          6.089096\n",
       "Zootopia                      7.992392\n",
       "xXx: Return of Xander Cage    5.212195\n",
       "Name: aggregate_score, Length: 2140, dtype: float64"
      ]
     },
     "execution_count": 11,
     "metadata": {},
     "output_type": "execute_result"
    }
   ],
   "source": [
    "# Calculate the total number of reviews each movie recieved\n",
    "fulldf['total_num_reviews'] = fulldf['TMDBvote_count'] + fulldf['IMDBnumvotes']\\\n",
    "\n",
    "# Calculate the number of reviews that were from IMDB or TMDB as a percentage\n",
    "fulldf['TMDB_percentage'] = fulldf['TMDBvote_count'] / fulldf['total_num_reviews']\n",
    "fulldf['IMDB_percentage'] = fulldf['IMDBnumvotes'] / fulldf['total_num_reviews']\n",
    "\n",
    "# Calculate the weighted average by multiplying the aggregate score from each source by the source's percentage of votes and adding them together\n",
    "fulldf['aggregate_score'] = (fulldf['TMDB_percentage'] * fulldf['TMDBvote_average']) + (fulldf['IMDB_percentage'] * fulldf['IMDBrating'])\n",
    "\n",
    "# Display the result\n",
    "fulldf['aggregate_score']"
   ]
  },
  {
   "cell_type": "markdown",
   "metadata": {},
   "source": [
    "I am happy with this result, so I am going to drop the extra columns I just created and the original columns that contained the aggregate scores and score counts to make the final dataframe much easier to read."
   ]
  },
  {
   "cell_type": "code",
   "execution_count": 12,
   "metadata": {},
   "outputs": [
    {
     "data": {
      "text/html": [
       "<div>\n",
       "<style scoped>\n",
       "    .dataframe tbody tr th:only-of-type {\n",
       "        vertical-align: middle;\n",
       "    }\n",
       "\n",
       "    .dataframe tbody tr th {\n",
       "        vertical-align: top;\n",
       "    }\n",
       "\n",
       "    .dataframe thead th {\n",
       "        text-align: right;\n",
       "    }\n",
       "</style>\n",
       "<table border=\"1\" class=\"dataframe\">\n",
       "  <thead>\n",
       "    <tr style=\"text-align: right;\">\n",
       "      <th></th>\n",
       "      <th>release_date</th>\n",
       "      <th>production_budget</th>\n",
       "      <th>original_language</th>\n",
       "      <th>popularity</th>\n",
       "      <th>num_markets</th>\n",
       "      <th>profit</th>\n",
       "      <th>aggregate_score</th>\n",
       "    </tr>\n",
       "  </thead>\n",
       "  <tbody>\n",
       "    <tr>\n",
       "      <th>#Horror</th>\n",
       "      <td>Nov 20, 2015</td>\n",
       "      <td>1500000</td>\n",
       "      <td>de</td>\n",
       "      <td>6.099</td>\n",
       "      <td>3</td>\n",
       "      <td>-1500000</td>\n",
       "      <td>3.009580</td>\n",
       "    </tr>\n",
       "    <tr>\n",
       "      <th>10 Cloverfield Lane</th>\n",
       "      <td>Mar 11, 2016</td>\n",
       "      <td>5000000</td>\n",
       "      <td>en</td>\n",
       "      <td>17.892</td>\n",
       "      <td>25</td>\n",
       "      <td>103286422</td>\n",
       "      <td>7.194760</td>\n",
       "    </tr>\n",
       "    <tr>\n",
       "      <th>10 Days in a Madhouse</th>\n",
       "      <td>Nov 11, 2015</td>\n",
       "      <td>12000000</td>\n",
       "      <td>en</td>\n",
       "      <td>0.955</td>\n",
       "      <td>2</td>\n",
       "      <td>-11985384</td>\n",
       "      <td>6.691882</td>\n",
       "    </tr>\n",
       "    <tr>\n",
       "      <th>12 Strong</th>\n",
       "      <td>Jan 19, 2018</td>\n",
       "      <td>35000000</td>\n",
       "      <td>en</td>\n",
       "      <td>13.183</td>\n",
       "      <td>26</td>\n",
       "      <td>36118378</td>\n",
       "      <td>6.574508</td>\n",
       "    </tr>\n",
       "    <tr>\n",
       "      <th>12 Years a Slave</th>\n",
       "      <td>Oct 18, 2013</td>\n",
       "      <td>20000000</td>\n",
       "      <td>en</td>\n",
       "      <td>16.493</td>\n",
       "      <td>32</td>\n",
       "      <td>161025343</td>\n",
       "      <td>8.097729</td>\n",
       "    </tr>\n",
       "    <tr>\n",
       "      <th>...</th>\n",
       "      <td>...</td>\n",
       "      <td>...</td>\n",
       "      <td>...</td>\n",
       "      <td>...</td>\n",
       "      <td>...</td>\n",
       "      <td>...</td>\n",
       "      <td>...</td>\n",
       "    </tr>\n",
       "    <tr>\n",
       "      <th>Zookeeper</th>\n",
       "      <td>Jul 8, 2011</td>\n",
       "      <td>80000000</td>\n",
       "      <td>en</td>\n",
       "      <td>10.764</td>\n",
       "      <td>30</td>\n",
       "      <td>90805525</td>\n",
       "      <td>5.201663</td>\n",
       "    </tr>\n",
       "    <tr>\n",
       "      <th>Zoolander 2</th>\n",
       "      <td>Feb 12, 2016</td>\n",
       "      <td>50000000</td>\n",
       "      <td>en</td>\n",
       "      <td>12.997</td>\n",
       "      <td>17</td>\n",
       "      <td>5348693</td>\n",
       "      <td>4.700000</td>\n",
       "    </tr>\n",
       "    <tr>\n",
       "      <th>Zoom</th>\n",
       "      <td>Aug 11, 2006</td>\n",
       "      <td>35000000</td>\n",
       "      <td>en</td>\n",
       "      <td>3.434</td>\n",
       "      <td>7</td>\n",
       "      <td>-22493812</td>\n",
       "      <td>6.089096</td>\n",
       "    </tr>\n",
       "    <tr>\n",
       "      <th>Zootopia</th>\n",
       "      <td>Mar 4, 2016</td>\n",
       "      <td>150000000</td>\n",
       "      <td>en</td>\n",
       "      <td>27.549</td>\n",
       "      <td>45</td>\n",
       "      <td>869429616</td>\n",
       "      <td>7.992392</td>\n",
       "    </tr>\n",
       "    <tr>\n",
       "      <th>xXx: Return of Xander Cage</th>\n",
       "      <td>Jan 20, 2017</td>\n",
       "      <td>85000000</td>\n",
       "      <td>en</td>\n",
       "      <td>21.749</td>\n",
       "      <td>31</td>\n",
       "      <td>260033359</td>\n",
       "      <td>5.212195</td>\n",
       "    </tr>\n",
       "  </tbody>\n",
       "</table>\n",
       "<p>2140 rows × 7 columns</p>\n",
       "</div>"
      ],
      "text/plain": [
       "                            release_date  production_budget original_language  \\\n",
       "#Horror                     Nov 20, 2015            1500000                de   \n",
       "10 Cloverfield Lane         Mar 11, 2016            5000000                en   \n",
       "10 Days in a Madhouse       Nov 11, 2015           12000000                en   \n",
       "12 Strong                   Jan 19, 2018           35000000                en   \n",
       "12 Years a Slave            Oct 18, 2013           20000000                en   \n",
       "...                                  ...                ...               ...   \n",
       "Zookeeper                    Jul 8, 2011           80000000                en   \n",
       "Zoolander 2                 Feb 12, 2016           50000000                en   \n",
       "Zoom                        Aug 11, 2006           35000000                en   \n",
       "Zootopia                     Mar 4, 2016          150000000                en   \n",
       "xXx: Return of Xander Cage  Jan 20, 2017           85000000                en   \n",
       "\n",
       "                            popularity  num_markets     profit  \\\n",
       "#Horror                          6.099            3   -1500000   \n",
       "10 Cloverfield Lane             17.892           25  103286422   \n",
       "10 Days in a Madhouse            0.955            2  -11985384   \n",
       "12 Strong                       13.183           26   36118378   \n",
       "12 Years a Slave                16.493           32  161025343   \n",
       "...                                ...          ...        ...   \n",
       "Zookeeper                       10.764           30   90805525   \n",
       "Zoolander 2                     12.997           17    5348693   \n",
       "Zoom                             3.434            7  -22493812   \n",
       "Zootopia                        27.549           45  869429616   \n",
       "xXx: Return of Xander Cage      21.749           31  260033359   \n",
       "\n",
       "                            aggregate_score  \n",
       "#Horror                            3.009580  \n",
       "10 Cloverfield Lane                7.194760  \n",
       "10 Days in a Madhouse              6.691882  \n",
       "12 Strong                          6.574508  \n",
       "12 Years a Slave                   8.097729  \n",
       "...                                     ...  \n",
       "Zookeeper                          5.201663  \n",
       "Zoolander 2                        4.700000  \n",
       "Zoom                               6.089096  \n",
       "Zootopia                           7.992392  \n",
       "xXx: Return of Xander Cage         5.212195  \n",
       "\n",
       "[2140 rows x 7 columns]"
      ]
     },
     "execution_count": 12,
     "metadata": {},
     "output_type": "execute_result"
    }
   ],
   "source": [
    "fulldf.drop(columns=['TMDB_percentage', 'IMDB_percentage', 'total_num_reviews', 'TMDBvote_count', 'IMDBnumvotes', 'TMDBvote_average', 'IMDBrating'], inplace=True)\n",
    "fulldf"
   ]
  },
  {
   "cell_type": "markdown",
   "metadata": {},
   "source": [
    "## Analysis\n",
    "\n",
    "The first step in my analysis is to establish the correlation between production budget and average aggregate score of the films. I plan to do this with a scatter plot and a simple linear regression model."
   ]
  },
  {
   "cell_type": "code",
   "execution_count": null,
   "metadata": {},
   "outputs": [],
   "source": []
  }
 ],
 "metadata": {
  "kernelspec": {
   "display_name": "Python 3",
   "language": "python",
   "name": "python3"
  },
  "language_info": {
   "codemirror_mode": {
    "name": "ipython",
    "version": 3
   },
   "file_extension": ".py",
   "mimetype": "text/x-python",
   "name": "python",
   "nbconvert_exporter": "python",
   "pygments_lexer": "ipython3",
   "version": "3.8.5"
  }
 },
 "nbformat": 4,
 "nbformat_minor": 5
}
